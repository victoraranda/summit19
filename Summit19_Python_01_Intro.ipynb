{
 "cells": [
  {
   "cell_type": "markdown",
   "metadata": {},
   "source": [
    "<img src=\"img/insight.svg\" style=\"width: 300px\"><br>\n",
    "<font color='#544640'>\n",
    "<center><i>Engineering Summit 2019</i></center>\n",
    "<center><i>Denver, Colorado</i></center></font>"
   ]
  },
  {
   "cell_type": "markdown",
   "metadata": {},
   "source": [
    "# <font color=\"#D21087\">Welcome to Python</font>\n",
    "\n",
    "<font color='#544640'>This is the first file for the Into to Python session. It is a fairly broad set of general/basic examples to get you started, to refer to, adapt from, etc.\n",
    "\n",
    "We'll not be spending a lot of time on this content - so that we can spend more time on the other three examples.</font>"
   ]
  },
  {
   "cell_type": "markdown",
   "metadata": {},
   "source": [
    "<br><br><font color=\"#B81590\">$$\\large-\\infty-$$</font><br><br>"
   ]
  },
  {
   "cell_type": "markdown",
   "metadata": {},
   "source": [
    "### <font color=\"#D21087\">Some Jupyter Shortcuts</font>\n",
    "\n",
    "##### <font color=\"#D21087\">Command Mode</font><font color='#544640'>\n",
    "* `shift` + `enter` run cell, select below\n",
    "* `ctrl` + `enter` run cell\n",
    "* `option` + `enter` run cell, insert below\n",
    "* `A` insert cell above\n",
    "* `B` insert cell below\n",
    "* `C` copy cell\n",
    "* `V` paste cell\n",
    "* `D` , `D` delete selected cell\n",
    "* `shift` + `M` merge selected cells, or current cell with <br>cell below if only one cell selected\n",
    "* `I` , `I` interrupt kernel\n",
    "* `0` , `0` restart kernel (with dialog)\n",
    "* `Y` change cell to code mode\n",
    "* `M` change cell to markdown mode (good for documentation)</font>\n",
    "\n",
    "##### <font color=\"#D21087\">Edit Mode</font><font color='#544640'>\n",
    "* `cmd` + `/` toggle comment lines\n",
    "* `tab` code completion or indent\n",
    "* `shift` + `tab` tooltip\n",
    "* `ctrl` + `shift` + `-` split cell\n",
    "* `function_name?` help</font>"
   ]
  },
  {
   "cell_type": "markdown",
   "metadata": {},
   "source": [
    "<br><br><font color=\"#B81590\">$$\\large-\\infty-$$</font><br><br>"
   ]
  },
  {
   "cell_type": "code",
   "execution_count": 40,
   "metadata": {},
   "outputs": [],
   "source": [
    "# environment setup\n",
    "import random"
   ]
  },
  {
   "cell_type": "markdown",
   "metadata": {},
   "source": [
    "### <font color=\"#D21087\">Variables</font>\n",
    "\n",
    "##### <font color=\"#D21087\">Strings</font>\n",
    "\n",
    "<font color='#544640'>\n",
    "\n",
    ">Textual data in Python is handled with str objects, or strings. Strings are immutable sequences of Unicode code points.\n",
    "\n",
    "> Strings implement all of the common sequence operations, along with the additional methods described below.\n",
    "\n",
    "https://docs.python.org/3/library/stdtypes.html#string-methods\n",
    "\n",
    "> Strings also support two styles of string formatting, one providing a large degree of flexibility and customization (see [`str.format()`](https://docs.python.org/3/library/stdtypes.html#str.format), [Format String Syntax](https://docs.python.org/3/library/string.html#formatstrings) and [Custom String Formatting](https://docs.python.org/3/library/string.html#string-formatting) and the other based on C printf style formatting that handles a narrower range of types and is slightly harder to use correctly, but is often faster for the cases it can handle (printf-style String Formatting).\n",
    "\n",
    "See also:\n",
    "\n",
    "https://docs.python.org/3/faq/programming.html#numbers-and-strings\n",
    "\n",
    "https://docs.python.org/3/library/string.html</font>"
   ]
  },
  {
   "cell_type": "code",
   "execution_count": 41,
   "metadata": {},
   "outputs": [
    {
     "name": "stdout",
     "output_type": "stream",
     "text": [
      "hello, are you having a nice time?\n",
      "hello, ar\n"
     ]
    }
   ],
   "source": [
    "my_string = \"hello, are you having a nice time?\"\n",
    "\n",
    "print(my_string)\n",
    "print(my_string[0:9])"
   ]
  },
  {
   "cell_type": "code",
   "execution_count": 42,
   "metadata": {},
   "outputs": [
    {
     "name": "stdout",
     "output_type": "stream",
     "text": [
      "hello,\n",
      "are\n",
      "you\n"
     ]
    }
   ],
   "source": [
    "# splitting strings up by delimiting characters, returns a list\n",
    "# more on lists below\n",
    "print(my_string.split(' ')[0])\n",
    "print(my_string.split(' ')[1])\n",
    "print(my_string.split(' ')[2])"
   ]
  },
  {
   "cell_type": "code",
   "execution_count": 43,
   "metadata": {
    "scrolled": true
   },
   "outputs": [
    {
     "name": "stdout",
     "output_type": "stream",
     "text": [
      "['10', '0', '0', '1']\n"
     ]
    }
   ],
   "source": [
    "my_ip_address = '10.0.0.1'\n",
    "\n",
    "my_octets = my_ip_address.split('.')\n",
    "\n",
    "print(my_octets)"
   ]
  },
  {
   "cell_type": "markdown",
   "metadata": {},
   "source": [
    "<font color='#544640'>Understanding variable <b>scope</b> is important as you begin to write your own code. It will inevitably bite you until you get the hang of it.\n",
    "\n",
    "https://docs.python.org/3/reference/executionmodel.html#naming-and-binding</font>"
   ]
  },
  {
   "cell_type": "markdown",
   "metadata": {},
   "source": [
    "##### <font color=\"#D21087\">Copies vs References</font>\n",
    "\n",
    "<font color='#544640'>Variable assignment behavior can be tricky at first, if you don't understand what's going on. See below!</font>"
   ]
  },
  {
   "cell_type": "code",
   "execution_count": 44,
   "metadata": {},
   "outputs": [
    {
     "name": "stdout",
     "output_type": "stream",
     "text": [
      "4\n",
      "hi\n"
     ]
    }
   ],
   "source": [
    "# assign a, assign b = a, then change a\n",
    "# what are the values of a and b?\n",
    "\n",
    "a = 'hi'\n",
    "b = a\n",
    "a = 4\n",
    "\n",
    "print(a)\n",
    "print(b)"
   ]
  },
  {
   "cell_type": "markdown",
   "metadata": {},
   "source": [
    "<font color='#544640'>It doesn't always work out that way!\n",
    "\n",
    "https://docs.python.org/3/library/copy.html</font>"
   ]
  },
  {
   "cell_type": "code",
   "execution_count": 45,
   "metadata": {},
   "outputs": [
    {
     "name": "stdout",
     "output_type": "stream",
     "text": [
      "[1, 2, 3, 4, 5, 6]\n"
     ]
    }
   ],
   "source": [
    "a = [1, 2, 3, 4, 5]\n",
    "\n",
    "# creates a new variable that is a *reference to* a\n",
    "b = a\n",
    "\n",
    "# modify a\n",
    "a.append(6)\n",
    "\n",
    "# what's b look like now?\n",
    "print(b)"
   ]
  },
  {
   "cell_type": "code",
   "execution_count": 46,
   "metadata": {},
   "outputs": [
    {
     "name": "stdout",
     "output_type": "stream",
     "text": [
      "[1, 2, 3, 4, 5]\n"
     ]
    }
   ],
   "source": [
    "a = [1, 2, 3, 4, 5]\n",
    "\n",
    "# creates a new variable that is a *copy of* a\n",
    "b = a.copy()\n",
    "\n",
    "# modify a\n",
    "a.append(6)\n",
    "\n",
    "# what's b look like now?\n",
    "print(b)"
   ]
  },
  {
   "cell_type": "markdown",
   "metadata": {},
   "source": [
    "<br><br><font color=\"#B81590\">$$\\large-\\infty-$$</font><br><br>"
   ]
  },
  {
   "cell_type": "markdown",
   "metadata": {},
   "source": [
    "### <font color=\"#D21087\">Numbers</font>\n",
    "\n",
    "<font color='#544640'>Generally `float` (decimal) or `int` (integer) number types will be encountered. Be aware of which you're using and what happens to them when performing mathematical operations!</font>"
   ]
  },
  {
   "cell_type": "code",
   "execution_count": 47,
   "metadata": {},
   "outputs": [
    {
     "name": "stdout",
     "output_type": "stream",
     "text": [
      "1\n",
      "1.0\n"
     ]
    }
   ],
   "source": [
    "x = 1\n",
    "y = 1.0\n",
    "\n",
    "print(x)\n",
    "print(y)"
   ]
  },
  {
   "cell_type": "code",
   "execution_count": 48,
   "metadata": {},
   "outputs": [
    {
     "name": "stdout",
     "output_type": "stream",
     "text": [
      "2.0\n"
     ]
    }
   ],
   "source": [
    "print(x + y)  # what type will this be?"
   ]
  },
  {
   "cell_type": "code",
   "execution_count": 49,
   "metadata": {},
   "outputs": [
    {
     "name": "stdout",
     "output_type": "stream",
     "text": [
      "1.0\n"
     ]
    }
   ],
   "source": [
    "print(y / x)"
   ]
  },
  {
   "cell_type": "markdown",
   "metadata": {},
   "source": [
    "### <font color=\"#D21087\">Casting and Types</font>\n",
    "\n",
    "<font color='#544640'>It's important to know the types of variables you are working with, and how those types behave.\n",
    "\n",
    "https://docs.python.org/3/library/stdtypes.html</font>"
   ]
  },
  {
   "cell_type": "code",
   "execution_count": 50,
   "metadata": {},
   "outputs": [
    {
     "ename": "TypeError",
     "evalue": "unsupported operand type(s) for +: 'int' and 'str'",
     "output_type": "error",
     "traceback": [
      "\u001b[0;31m---------------------------------------------------------------------------\u001b[0m",
      "\u001b[0;31mTypeError\u001b[0m                                 Traceback (most recent call last)",
      "\u001b[0;32m<ipython-input-50-1600514ef604>\u001b[0m in \u001b[0;36m<module>\u001b[0;34m\u001b[0m\n\u001b[1;32m      4\u001b[0m \u001b[0my\u001b[0m \u001b[0;34m=\u001b[0m \u001b[0;34m'6'\u001b[0m\u001b[0;34m\u001b[0m\u001b[0;34m\u001b[0m\u001b[0m\n\u001b[1;32m      5\u001b[0m \u001b[0;34m\u001b[0m\u001b[0m\n\u001b[0;32m----> 6\u001b[0;31m \u001b[0mprint\u001b[0m\u001b[0;34m(\u001b[0m\u001b[0mx\u001b[0m \u001b[0;34m+\u001b[0m \u001b[0my\u001b[0m\u001b[0;34m)\u001b[0m\u001b[0;34m\u001b[0m\u001b[0;34m\u001b[0m\u001b[0m\n\u001b[0m\u001b[1;32m      7\u001b[0m \u001b[0;34m\u001b[0m\u001b[0m\n\u001b[1;32m      8\u001b[0m \u001b[0;31m# error! you cant add those!\u001b[0m\u001b[0;34m\u001b[0m\u001b[0;34m\u001b[0m\u001b[0;34m\u001b[0m\u001b[0m\n",
      "\u001b[0;31mTypeError\u001b[0m: unsupported operand type(s) for +: 'int' and 'str'"
     ]
    }
   ],
   "source": [
    "# brief example\n",
    "\n",
    "x = 5\n",
    "y = '6'\n",
    "\n",
    "print(x + y)\n",
    "\n",
    "# error! you cant add those!"
   ]
  },
  {
   "cell_type": "code",
   "execution_count": 51,
   "metadata": {
    "scrolled": true
   },
   "outputs": [
    {
     "name": "stdout",
     "output_type": "stream",
     "text": [
      "str(x) + y = 56 <class 'str'>\n"
     ]
    }
   ],
   "source": [
    "# cast the integer into a string, then add\n",
    "# what happens when you add strings?\n",
    "print('str(x) + y =', str(x) + y, type(str(x) + y))"
   ]
  },
  {
   "cell_type": "code",
   "execution_count": 52,
   "metadata": {},
   "outputs": [
    {
     "name": "stdout",
     "output_type": "stream",
     "text": [
      "\n",
      "x + int(y) = 11 <class 'int'>\n"
     ]
    }
   ],
   "source": [
    "# cast the string into an integer, then add\n",
    "print('\\nx + int(y) =', x + int(y), type(x + int(y)))"
   ]
  },
  {
   "cell_type": "code",
   "execution_count": 53,
   "metadata": {},
   "outputs": [
    {
     "name": "stdout",
     "output_type": "stream",
     "text": [
      "\n",
      "float(x + int(y)) = 11.0 <class 'float'>\n"
     ]
    }
   ],
   "source": [
    "# cast the string into an integer, then add, then cast the whole lot into a float\n",
    "print('\\nfloat(x + int(y)) =', float(x + int(y)), type(float(x + int(y))))"
   ]
  },
  {
   "cell_type": "markdown",
   "metadata": {},
   "source": [
    "<br><br><font color=\"#B81590\">$$\\large-\\infty-$$</font><br><br>"
   ]
  },
  {
   "cell_type": "markdown",
   "metadata": {},
   "source": [
    "### <font color=\"#D21087\">Lists</font>\n",
    "\n",
    "<font color='#544640'>\n",
    "\n",
    "> Python knows a number of compound data types, used to group together other values. The most versatile is the list, which can be written as a list of comma-separated values (items) between square brackets. Lists might contain items of different types, but usually the items all have the same type.\n",
    "\n",
    "https://docs.python.org/3/tutorial/introduction.html#lists</font>"
   ]
  },
  {
   "cell_type": "code",
   "execution_count": 54,
   "metadata": {
    "ExecuteTime": {
     "end_time": "2019-02-07T09:34:23.647855Z",
     "start_time": "2019-02-07T09:34:23.644423Z"
    }
   },
   "outputs": [
    {
     "name": "stdout",
     "output_type": "stream",
     "text": [
      "['hello', 'hi', 'howdy', 'greetings']\n",
      "hello\n",
      "greetings\n"
     ]
    }
   ],
   "source": [
    "# make a list\n",
    "# brackets [] when creating\n",
    "greet_words = ['hello', 'hi', 'howdy', 'greetings']\n",
    "print(greet_words)\n",
    "\n",
    "# access an element - 0 is the first index in python\n",
    "# brackets [index or slice] when accessing elements\n",
    "print(greet_words[0])\n",
    "print(greet_words[-1])"
   ]
  },
  {
   "cell_type": "code",
   "execution_count": 55,
   "metadata": {
    "ExecuteTime": {
     "end_time": "2019-02-07T09:34:25.912221Z",
     "start_time": "2019-02-07T09:34:25.907678Z"
    }
   },
   "outputs": [
    {
     "name": "stdout",
     "output_type": "stream",
     "text": [
      "['server02', '10.0.1.55']\n",
      "10.0.0.50\n"
     ]
    }
   ],
   "source": [
    "# lists can be nested; lists of lists\n",
    "dns_entries = [['foobar', '10.0.0.50'], ['server02', '10.0.1.55']]\n",
    "\n",
    "# multi-line code works in python (generally)\n",
    "# conveniently this does the same thing as above\n",
    "dns_entries = [['foobar', '10.0.0.50'], ['server02', '10.0.1.55']]\n",
    "\n",
    "# access elements of the first level of the list with the first index,\n",
    "# second level of the list with the second index, and so on\n",
    "print(dns_entries[1])\n",
    "print(dns_entries[0][1])"
   ]
  },
  {
   "cell_type": "markdown",
   "metadata": {},
   "source": [
    "### <font color=\"#D21087\">List Comprehensions</font>\n",
    "    \n",
    "<font color='#544640'>\n",
    "\n",
    "> List comprehensions provide a concise way to create lists. Common applications are to make new lists where each element is the result of some operations applied to each member of another sequence or iterable, or to create a subsequence of those elements that satisfy a certain condition.\n",
    "\n",
    "https://docs.python.org/3/tutorial/datastructures.html#list-comprehensions</font>"
   ]
  },
  {
   "cell_type": "code",
   "execution_count": 56,
   "metadata": {
    "ExecuteTime": {
     "end_time": "2019-02-07T09:37:17.755390Z",
     "start_time": "2019-02-07T09:37:17.750449Z"
    }
   },
   "outputs": [
    {
     "name": "stdout",
     "output_type": "stream",
     "text": [
      "[0, 1, 2, 3, 4, 5, 6, 7, 8, 9, 10, 11, 12, 13, 14, 15, 16, 17, 18, 19, 20]\n",
      "['Bob', 'John', 'Sue', 'Jenny', 'Alan', 'Charles']\n"
     ]
    }
   ],
   "source": [
    "# lists can be created with expressions\n",
    "x = [i for i in range(21)]\n",
    "y = [\n",
    "    j.capitalize() for j in ['bob', 'john', 'sue', 'jenny', 'alan', 'charles']\n",
    "]\n",
    "\n",
    "print(x)\n",
    "print(y)"
   ]
  },
  {
   "cell_type": "code",
   "execution_count": 57,
   "metadata": {},
   "outputs": [
    {
     "name": "stdout",
     "output_type": "stream",
     "text": [
      "[0, 1, 2, 3, 4, 5, 6, 7, 8, 9, 10, 11, 12, 13, 14, 15, 16, 17, 18, 19, 20, 'Bob', 'John', 'Sue', 'Jenny', 'Alan', 'Charles']\n"
     ]
    }
   ],
   "source": [
    "# concatenation - appending one list to another\n",
    "z = x + y\n",
    "print(z)"
   ]
  },
  {
   "cell_type": "code",
   "execution_count": 58,
   "metadata": {
    "ExecuteTime": {
     "end_time": "2019-02-07T09:37:17.755390Z",
     "start_time": "2019-02-07T09:37:17.750449Z"
    }
   },
   "outputs": [
    {
     "name": "stdout",
     "output_type": "stream",
     "text": [
      "[3, 4, 5]\n",
      "[19, 20, 'Bob', 'John']\n"
     ]
    }
   ],
   "source": [
    "# access a range of elements\n",
    "# inclusive of the first index #, exclusive of the second index #\n",
    "print(x[3:6])\n",
    "print(z[19:23])"
   ]
  },
  {
   "cell_type": "code",
   "execution_count": 59,
   "metadata": {},
   "outputs": [
    {
     "data": {
      "text/plain": [
       "[0, 1, 2, 3, 4, 5, 6, 7, 8, 9, 10, 11, 12, 13, 14, 15, 16, 17, 18, 19, 20]"
      ]
     },
     "execution_count": 59,
     "metadata": {},
     "output_type": "execute_result"
    }
   ],
   "source": [
    "# in Jupyter notebooks (like the python interpreter) you\n",
    "# can just type the variable name and it will display the value.\n",
    "x"
   ]
  },
  {
   "cell_type": "markdown",
   "metadata": {},
   "source": [
    "<font color='#544640'>More info on copies.\n",
    "\n",
    "https://www.geeksforgeeks.org/copy-python-deep-copy-shallow-copy/</font>"
   ]
  },
  {
   "cell_type": "markdown",
   "metadata": {},
   "source": [
    "##### <font color=\"#D21087\">With Conditions</font>\n",
    "\n",
    "<font color='#544640'>We can use conditional statements when we create list comprehensions.</font>"
   ]
  },
  {
   "cell_type": "code",
   "execution_count": 60,
   "metadata": {},
   "outputs": [
    {
     "data": {
      "text/plain": [
       "[2, 4, 8, 16, 32, 64, 128, 256, 512]"
      ]
     },
     "execution_count": 60,
     "metadata": {},
     "output_type": "execute_result"
    }
   ],
   "source": [
    "even_numbers_exp = [2**i for i in range(1, 10)]\n",
    "even_numbers_exp"
   ]
  },
  {
   "cell_type": "code",
   "execution_count": 61,
   "metadata": {},
   "outputs": [
    {
     "data": {
      "text/plain": [
       "[64, 128, 256, 512]"
      ]
     },
     "execution_count": 61,
     "metadata": {},
     "output_type": "execute_result"
    }
   ],
   "source": [
    "even_numbers_exp = [2**i for i in range(1, 10) if i > 5]\n",
    "even_numbers_exp"
   ]
  },
  {
   "cell_type": "markdown",
   "metadata": {},
   "source": [
    "### <font color=\"#D21087\">Dictionaries</font>\n",
    "\n",
    "<font color='#544640'>\n",
    "\n",
    ">Another useful data type built into Python is the dictionary (see Mapping Types — dict). Dictionaries are sometimes found in other languages as “associative memories” or “associative arrays”. Unlike sequences, which are indexed by a range of numbers, dictionaries are indexed by keys, which can be any immutable type; strings and numbers can always be keys. Tuples can be used as keys if they contain only strings, numbers, or tuples; if a tuple contains any mutable object either directly or indirectly, it cannot be used as a key. You can’t use lists as keys, since lists can be modified in place using index assignments, slice assignments, or methods like append() and extend().\n",
    "\n",
    ">It is best to think of a dictionary as a set of key: value pairs, with the requirement that the keys are unique (within one dictionary). A pair of braces creates an empty dictionary: {}. Placing a comma-separated list of key:value pairs within the braces adds initial key:value pairs to the dictionary; this is also the way dictionaries are written on output.\n",
    "\n",
    ">The main operations on a dictionary are storing a value with some key and extracting the value given the key. It is also possible to delete a key:value pair with del. If you store using a key that is already in use, the old value associated with that key is forgotten. It is an error to extract a value using a non-existent key.\n",
    "\n",
    ">Performing list(d) on a dictionary returns a list of all the keys used in the dictionary, in insertion order (if you want it sorted, just use sorted(d) instead). To check whether a single key is in the dictionary, use the in keyword.\n",
    "\n",
    "https://docs.python.org/3/tutorial/datastructures.html#dictionaries</font>"
   ]
  },
  {
   "cell_type": "code",
   "execution_count": 62,
   "metadata": {},
   "outputs": [
    {
     "data": {
      "text/plain": [
       "'10.0.0.50'"
      ]
     },
     "execution_count": 62,
     "metadata": {},
     "output_type": "execute_result"
    }
   ],
   "source": [
    "# dicts are unordered key-value pairs\n",
    "# braces {} when creating\n",
    "dns_entries_dict = {\"foobar\": '10.0.0.50', 'server02': '10.0.1.55'}\n",
    "\n",
    "# brackets ['key'] when accessing\n",
    "dns_entries_dict['foobar']"
   ]
  },
  {
   "cell_type": "code",
   "execution_count": 63,
   "metadata": {},
   "outputs": [
    {
     "data": {
      "text/plain": [
       "dict_values"
      ]
     },
     "execution_count": 63,
     "metadata": {},
     "output_type": "execute_result"
    }
   ],
   "source": [
    "# lots of objects in python have built-in attributes or functions that are helpful\n",
    "# make sure you understand the nature and type of value they return!\n",
    "\n",
    "ip_addresses = dns_entries_dict.values()\n",
    "\n",
    "type(ip_addresses)"
   ]
  },
  {
   "cell_type": "code",
   "execution_count": 64,
   "metadata": {},
   "outputs": [
    {
     "name": "stdout",
     "output_type": "stream",
     "text": [
      "['10.0.0.50', '10.0.1.55']\n"
     ]
    }
   ],
   "source": [
    "# we'll iterate through it with a list comprehension and print a list of the values\n",
    "\n",
    "print([hostname for hostname in dns_entries_dict.values()])"
   ]
  },
  {
   "cell_type": "markdown",
   "metadata": {},
   "source": [
    "### <font color=\"#D21087\">Tuples</font>\n",
    "\n",
    "<font color='#544640'>>Tuples are immutable sequences, typically used to store collections of heterogeneous data (such as the 2-tuples produced by the enumerate() built-in). Tuples are also used for cases where an immutable sequence of homogeneous data is needed (such as allowing storage in a set or dict instance).\n",
    "\n",
    "https://docs.python.org/3/library/stdtypes.html#tuples</font>"
   ]
  },
  {
   "cell_type": "code",
   "execution_count": 79,
   "metadata": {},
   "outputs": [
    {
     "name": "stdout",
     "output_type": "stream",
     "text": [
      "8 does not exist in my_tup (1, 6, 2, 2, 2, 4, 2)\n",
      "count of 5s in my_tup: 0\n",
      "count of 2s in my_tup: 4\n"
     ]
    }
   ],
   "source": [
    "# tuples are like lists, but immutable (cannot be changed)\n",
    "# they are faster than lists because they're stripped down\n",
    "# parentheses () when creating\n",
    "my_tup = (1, 6, 2, 2, 2, 4, 2)\n",
    "search_number = random.randint(1, 10)\n",
    "\n",
    "if search_number in my_tup:\n",
    "    print(search_number, 'exists in my_tup', my_tup)\n",
    "else:\n",
    "    print(search_number, 'does not exist in my_tup', my_tup)\n",
    "\n",
    "print('count of 5s in my_tup:', my_tup.count(5))\n",
    "print('count of 2s in my_tup:', my_tup.count(2))"
   ]
  },
  {
   "cell_type": "markdown",
   "metadata": {},
   "source": [
    "### <font color=\"#D21087\">Sets</font>\n",
    "\n",
    "<font color='#544640'>\n",
    "\n",
    ">Python also includes a data type for sets. A set is an unordered collection with no duplicate elements. Basic uses include membership testing and eliminating duplicate entries. Set objects also support mathematical operations like union, intersection, difference, and symmetric difference.\n",
    "\n",
    "> Curly braces or the set() function can be used to create sets. Note: to create an empty set you have to use set(), not {}; the latter creates an empty dictionary, a data structure that we discuss in the next section.\n",
    "\n",
    "https://docs.python.org/3/tutorial/datastructures.html#tuples-and-sequences</font>"
   ]
  },
  {
   "cell_type": "code",
   "execution_count": 66,
   "metadata": {},
   "outputs": [
    {
     "name": "stdout",
     "output_type": "stream",
     "text": [
      "5 does not exist in my_set {1, 2, 4, 6}\n"
     ]
    }
   ],
   "source": [
    "# sets are unordered collections - they cannot have duplicates\n",
    "# use the set([]) function when creating, and create from a sequence\n",
    "my_set = set([1, 6, 2, 2, 2, 4, 2])\n",
    "search_number = random.randint(1, 10)\n",
    "\n",
    "if search_number in my_set:\n",
    "    print(search_number, 'exists in my_set', my_set)\n",
    "else:\n",
    "    print(search_number, 'does not exist in my_set', my_set)"
   ]
  },
  {
   "cell_type": "code",
   "execution_count": 67,
   "metadata": {},
   "outputs": [
    {
     "name": "stdout",
     "output_type": "stream",
     "text": [
      "{1, 2, 4, 6}\n"
     ]
    }
   ],
   "source": [
    "my_other_set = set([6, 2])\n",
    "\n",
    "# union of sets - both sets combined\n",
    "print(my_set | my_other_set)"
   ]
  },
  {
   "cell_type": "code",
   "execution_count": 68,
   "metadata": {},
   "outputs": [
    {
     "name": "stdout",
     "output_type": "stream",
     "text": [
      "{2, 6}\n"
     ]
    }
   ],
   "source": [
    "# intersection of sets - just elements in both sets\n",
    "print(my_set & my_other_set)"
   ]
  },
  {
   "cell_type": "code",
   "execution_count": 69,
   "metadata": {},
   "outputs": [
    {
     "name": "stdout",
     "output_type": "stream",
     "text": [
      "{1, 4}\n"
     ]
    }
   ],
   "source": [
    "# difference of sets - elements of one set, except for those in the other\n",
    "print(my_set - my_other_set)"
   ]
  },
  {
   "cell_type": "markdown",
   "metadata": {},
   "source": [
    "<br><br><font color=\"#B81590\">$$\\large-\\infty-$$</font><br><br>"
   ]
  },
  {
   "cell_type": "markdown",
   "metadata": {},
   "source": [
    "### <font color=\"#D21087\">Flow Control</font>\n",
    "\n",
    "<font color='#544640'>https://docs.python.org/3/tutorial/controlflow.html\n",
    "\n",
    "Flow control mechanisms alter the order that your code executes. It allows you to loop (iterate) over list-like objects, iterate a specific number of times, apply conditions to your code behavior, and continue doing things until a condition is met.</font>"
   ]
  },
  {
   "cell_type": "markdown",
   "metadata": {},
   "source": [
    "##### <font color=\"#D21087\">If, Then</font>\n",
    "\n",
    "<font color='#544640'>https://docs.python.org/3/reference/compound_stmts.html#if</font>"
   ]
  },
  {
   "cell_type": "code",
   "execution_count": 70,
   "metadata": {},
   "outputs": [
    {
     "name": "stdout",
     "output_type": "stream",
     "text": [
      "x > 2\n"
     ]
    }
   ],
   "source": [
    "x = 5\n",
    "\n",
    "if x > 2:\n",
    "    print('x > 2')\n",
    "else:\n",
    "    print('x <= 2')"
   ]
  },
  {
   "cell_type": "code",
   "execution_count": 71,
   "metadata": {},
   "outputs": [
    {
     "name": "stdout",
     "output_type": "stream",
     "text": [
      "20\n"
     ]
    }
   ],
   "source": [
    "x = 5\n",
    "i_am_tired = True\n",
    "\n",
    "if x == 1:\n",
    "    print('one')\n",
    "elif x > 2:\n",
    "    x = 20\n",
    "elif i_am_tired:\n",
    "    x = 'go to bed'\n",
    "else:\n",
    "    x = 0\n",
    "\n",
    "print(x)\n",
    "\n",
    "# what is the output?"
   ]
  },
  {
   "cell_type": "markdown",
   "metadata": {},
   "source": [
    "##### <font color=\"#D21087\">For Loops</font>\n",
    "\n",
    "<font color='#544640'>\n",
    "    \n",
    ">The for statement in Python differs a bit from what you may be used to in C or Pascal. Rather than always iterating over an arithmetic progression of numbers (like in Pascal), or giving the user the ability to define both the iteration step and halting condition (as C), Python’s for statement iterates over the items of any sequence (a list or a string), in the order that they appear in the sequence.\n",
    "\n",
    "https://docs.python.org/3/reference/compound_stmts.html#for\n",
    "\n",
    "It's essential to know the `range()` function to use `for` loops effectively.\n",
    "\n",
    "https://docs.python.org/3/library/stdtypes.html?highlight=range#range</font>"
   ]
  },
  {
   "cell_type": "code",
   "execution_count": 72,
   "metadata": {},
   "outputs": [
    {
     "name": "stdout",
     "output_type": "stream",
     "text": [
      "1\n",
      "25\n",
      "36\n"
     ]
    }
   ],
   "source": [
    "# for loops can loop through a list\n",
    "for i in [1, 5, 6]:\n",
    "    print(i * i)"
   ]
  },
  {
   "cell_type": "code",
   "execution_count": 73,
   "metadata": {},
   "outputs": [
    {
     "name": "stdout",
     "output_type": "stream",
     "text": [
      "0\n",
      "1\n",
      "2\n",
      "3\n",
      "4\n"
     ]
    }
   ],
   "source": [
    "# or over a range of integers\n",
    "for i in range(5):\n",
    "    print(i)"
   ]
  },
  {
   "cell_type": "code",
   "execution_count": 74,
   "metadata": {},
   "outputs": [
    {
     "name": "stdout",
     "output_type": "stream",
     "text": [
      "word [ i ] is 1 characters in length\n",
      "word [ am ] is 2 characters in length\n",
      "word [ typing ] is 6 characters in length\n",
      "word [ this ] is 4 characters in length\n",
      "word [ on ] is 2 characters in length\n",
      "word [ my ] is 2 characters in length\n",
      "word [ keyboard ] is 8 characters in length\n",
      "\n",
      "there were 7 words in the sentence\n"
     ]
    }
   ],
   "source": [
    "sentence = 'i am typing this on my keyboard'\n",
    "\n",
    "# break it apart\n",
    "sentence_words = sentence.split(' ')\n",
    "\n",
    "# let's start counting at 0\n",
    "word_count = 0\n",
    "\n",
    "for word in sentence_words:\n",
    "    print('word [', word, '] is', len(word), 'characters in length')\n",
    "\n",
    "    # increment\n",
    "    word_count = word_count + 1\n",
    "\n",
    "print('\\nthere were', word_count, 'words in the sentence')"
   ]
  },
  {
   "cell_type": "markdown",
   "metadata": {},
   "source": [
    "##### <font color=\"#D21087\">While Loops</font>\n",
    "\n",
    "<font color='#544640'>Do someting until a condition is met.\n",
    "\n",
    "https://docs.python.org/3/reference/compound_stmts.html#while</font>"
   ]
  },
  {
   "cell_type": "code",
   "execution_count": 75,
   "metadata": {
    "scrolled": true
   },
   "outputs": [
    {
     "name": "stdout",
     "output_type": "stream",
     "text": [
      "2\n",
      "4\n",
      "8\n",
      "16\n",
      "32\n",
      "64\n",
      "128\n",
      "256\n",
      "512\n",
      "1024\n"
     ]
    }
   ],
   "source": [
    "x = 1\n",
    "\n",
    "while x < 1024:\n",
    "    x = x + x\n",
    "    print(x)"
   ]
  },
  {
   "cell_type": "markdown",
   "metadata": {},
   "source": [
    "<br><br><font color=\"#B81590\">$$\\large-\\infty-$$</font><br><br>"
   ]
  },
  {
   "cell_type": "markdown",
   "metadata": {},
   "source": [
    "### <font color=\"#D21087\">Functions</font>\n",
    "\n",
    "<font color='#544640'>Defining your own functions can be extremely useful. Functions are customized, packaged operations that take arguments and 'do something'.</font>"
   ]
  },
  {
   "cell_type": "code",
   "execution_count": 76,
   "metadata": {},
   "outputs": [
    {
     "name": "stdout",
     "output_type": "stream",
     "text": [
      "False\n",
      "False\n",
      "False\n",
      "True\n"
     ]
    }
   ],
   "source": [
    "def and_operator(a, b):\n",
    "    if a == 1 and b == 1:  # we can also go \"if a == b == 1:\"\n",
    "        return True\n",
    "    else:\n",
    "        return False\n",
    "\n",
    "\n",
    "print(and_operator(0, 0))\n",
    "print(and_operator(0, 1))\n",
    "print(and_operator(1, 0))\n",
    "print(and_operator(1, 1))"
   ]
  },
  {
   "cell_type": "code",
   "execution_count": 77,
   "metadata": {},
   "outputs": [
    {
     "name": "stdout",
     "output_type": "stream",
     "text": [
      "330\n",
      "33000\n"
     ]
    }
   ],
   "source": [
    "# here we've made z an implicit, but overridable, argument\n",
    "def multiply(w, x, y, z=1):\n",
    "    return (w * x * y * z)\n",
    "\n",
    "\n",
    "print(multiply(5, 6, 11))\n",
    "\n",
    "print(multiply(5, 6, 11, 100))"
   ]
  },
  {
   "cell_type": "markdown",
   "metadata": {},
   "source": [
    "<br><br><font color=\"#B81590\">$$\\large-\\infty-$$</font><br><br>"
   ]
  },
  {
   "cell_type": "markdown",
   "metadata": {},
   "source": [
    "### <font color=\"#D21087\">Classes</font>\n",
    "\n",
    "<font color='#544640'>Defining your own classes can also be extremely useful. Classes are custom objects that can have attributes, or their own functions.\n",
    "\n",
    "\n",
    "https://docs.python.org/3/tutorial/classes.html</font>"
   ]
  },
  {
   "cell_type": "code",
   "execution_count": 80,
   "metadata": {},
   "outputs": [],
   "source": [
    "class Rectangle(object):\n",
    "    \"\"\"\n",
    "    This is a rectangle object. It has a height and width\n",
    "    \n",
    "    Attributes\n",
    "    ----------\n",
    "    height : int (not strict)\n",
    "        height of rectangle\n",
    "    width : int (not strict)\n",
    "        width of rectangle\n",
    "    \"\"\"\n",
    "\n",
    "    def __init__(self, h, w):\n",
    "        self._width = w\n",
    "        self._height = h\n",
    "\n",
    "    def width(self):\n",
    "        return self._width\n",
    "\n",
    "    def height(self):\n",
    "        return self._height\n",
    "\n",
    "    def area(self):\n",
    "        return self._width * self._height"
   ]
  },
  {
   "cell_type": "code",
   "execution_count": 81,
   "metadata": {},
   "outputs": [
    {
     "name": "stdout",
     "output_type": "stream",
     "text": [
      "Rectangle of width 16 and height 5 has area 80\n"
     ]
    }
   ],
   "source": [
    "my_rect = Rectangle(5, 16)\n",
    "\n",
    "print('Rectangle of width', my_rect.width(), 'and height', my_rect.height(),\n",
    "      'has area', my_rect.area())"
   ]
  },
  {
   "cell_type": "code",
   "execution_count": null,
   "metadata": {},
   "outputs": [],
   "source": []
  }
 ],
 "metadata": {
  "kernelspec": {
   "display_name": "Python 3",
   "language": "python",
   "name": "python3"
  },
  "language_info": {
   "codemirror_mode": {
    "name": "ipython",
    "version": 3
   },
   "file_extension": ".py",
   "mimetype": "text/x-python",
   "name": "python",
   "nbconvert_exporter": "python",
   "pygments_lexer": "ipython3",
   "version": "3.7.1"
  },
  "varInspector": {
   "cols": {
    "lenName": 16,
    "lenType": 16,
    "lenVar": 40
   },
   "kernels_config": {
    "python": {
     "delete_cmd_postfix": "",
     "delete_cmd_prefix": "del ",
     "library": "var_list.py",
     "varRefreshCmd": "print(var_dic_list())"
    },
    "r": {
     "delete_cmd_postfix": ") ",
     "delete_cmd_prefix": "rm(",
     "library": "var_list.r",
     "varRefreshCmd": "cat(var_dic_list()) "
    }
   },
   "types_to_exclude": [
    "module",
    "function",
    "builtin_function_or_method",
    "instance",
    "_Feature"
   ],
   "window_display": false
  }
 },
 "nbformat": 4,
 "nbformat_minor": 2
}
