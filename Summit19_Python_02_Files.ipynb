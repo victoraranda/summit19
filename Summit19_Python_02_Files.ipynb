{
 "cells": [
  {
   "cell_type": "markdown",
   "metadata": {},
   "source": [
    "<img src=\"img/insight.svg\" style=\"width: 300px\"><br>\n",
    "<font color='#544640'>\n",
    "<center><i>Engineering Summit 2019</i></center>\n",
    "<center><i>Denver, Colorado</i></center></font><br>\n",
    "<center><i><font color='#544640' size='1'>Author: Victor Aranda</font></i></center></font>\n",
    "<center><i><font color='#B81590' size='1'>victor.aranda@insight.com</font></i></center></font>\n",
    "<hr>"
   ]
  },
  {
   "cell_type": "markdown",
   "metadata": {},
   "source": [
    "# <font color=\"#D21087\">Working with Files</font>\n",
    "\n",
    "<font color='#544640'>In this notebook we'll work with some simple file manipulation; opening them, reading data, and writing it back to disk.</font>"
   ]
  },
  {
   "cell_type": "markdown",
   "metadata": {},
   "source": [
    "<br><br><font color=\"#B81590\">$$\\large-\\infty-$$</font><br><br>"
   ]
  },
  {
   "cell_type": "code",
   "execution_count": 1,
   "metadata": {},
   "outputs": [],
   "source": [
    "# environment setup\n",
    "import os\n",
    "import pandas as pd"
   ]
  },
  {
   "cell_type": "markdown",
   "metadata": {},
   "source": [
    "<br><br><font color=\"#B81590\">$$\\large-\\infty-$$</font><br><br>"
   ]
  },
  {
   "cell_type": "markdown",
   "metadata": {},
   "source": [
    "### <font color=\"#D21087\">Basic Directory Stuff</font>\n",
    "\n",
    "<font color='#544640'>Python can tell you about the current working directory and the files therein. This is pretty handy. For example, you can iterate through them and perform actions depending on the type of file, or file name, etc. There are a lot of options here - use your imagination.</font>"
   ]
  },
  {
   "cell_type": "code",
   "execution_count": 2,
   "metadata": {},
   "outputs": [
    {
     "data": {
      "text/plain": [
       "['.DS_Store', 'example.xlsx', 'text.txt']"
      ]
     },
     "execution_count": 2,
     "metadata": {},
     "output_type": "execute_result"
    }
   ],
   "source": [
    "os.listdir('./samplefiles/')"
   ]
  },
  {
   "cell_type": "markdown",
   "metadata": {},
   "source": [
    "### <font color=\"#D21087\">Text Files</font>\n",
    "\n",
    "<font color='#544640'>We'll open two files, an Excel (.xlsx) and a text file.\n",
    "\n",
    "we'll use the built-in `open()` command. This takes a filename and a flag:\n",
    "\n",
    "* `'r'` read only\n",
    "* `'r+'` read and write\n",
    "* `'rb'` read only (binary)\n",
    "* `'rb+'` read and write (binary)\n",
    "* `'w'` write only\n",
    "* `'a'` append\n",
    "\n",
    "Note: the `+` indicates the file will be created if it doesn't exist.\n",
    "\n",
    "Regarding the next cell: The `%%` symbol below is not python - it's a [Jupyter magic command](https://ipython.readthedocs.io/en/stable/interactive/magics.html). This cell sets up our test file.</font>"
   ]
  },
  {
   "cell_type": "code",
   "execution_count": null,
   "metadata": {},
   "outputs": [],
   "source": [
    "%%writefile './samplefiles/text.txt'\n",
    "hello!\n",
    "line two!\n",
    "line three!\n",
    "line four!\n",
    "when is lunch??"
   ]
  },
  {
   "cell_type": "code",
   "execution_count": null,
   "metadata": {},
   "outputs": [],
   "source": [
    "# opening a text file with read-only privs\n",
    "\n",
    "text_file1 = open('./samplefiles/text.txt', 'r') # r = read only\n",
    "\n",
    "print('contents:\\n')\n",
    "for line in text_file1.readlines():\n",
    "    print('   ',line)\n",
    "    \n",
    "if text_file1.closed:\n",
    "    print('\\ntext_file2 is closed')\n",
    "else:\n",
    "    print('\\ntext_file2 is still open')\n",
    "\n",
    "text_file1.close()"
   ]
  },
  {
   "cell_type": "markdown",
   "metadata": {},
   "source": [
    "<font color='#544640'>There's a better way to open files. If you open files using the above method and forget to `close()` them, it may take some time for python to clean up the open file (i.e. it will stay open). It is easy to forget to `close()` a file when you are done.</font>"
   ]
  },
  {
   "cell_type": "code",
   "execution_count": null,
   "metadata": {},
   "outputs": [],
   "source": [
    "# opening a text file with read-only privs\n",
    "# the fancy way\n",
    "\n",
    "with open('./samplefiles/text.txt', 'r') as text_file2:\n",
    "    print('contents:\\n')\n",
    "    for line in text_file2.readlines():\n",
    "        print('   ',line)\n",
    "\n",
    "# file is automatically closed when the block ends\n",
    "\n",
    "if text_file2.closed:\n",
    "    print('\\ntext_file2 is closed')\n",
    "else:\n",
    "    print('\\ntext_file2 is still open')"
   ]
  },
  {
   "cell_type": "markdown",
   "metadata": {},
   "source": [
    "Let's add a line to this file.</font>"
   ]
  },
  {
   "cell_type": "code",
   "execution_count": null,
   "metadata": {},
   "outputs": [],
   "source": [
    "text_file3 = open('./samplefiles/text.txt', 'a+') #append and read\n",
    "    \n",
    "for i in range(6,10):\n",
    "    text_file3.write('line number ' + str(i) + '\\n')\n",
    "\n",
    "# readlines uses a 'cursor' to keep track of where it left off\n",
    "# go back to the beginning of the file\n",
    "text_file3.seek(0)\n",
    "    \n",
    "for line in text_file3.readlines():\n",
    "    print(line)"
   ]
  },
  {
   "cell_type": "markdown",
   "metadata": {},
   "source": [
    "<font color='#544640'>Let's modify the fifth line.</font>"
   ]
  },
  {
   "cell_type": "code",
   "execution_count": null,
   "metadata": {
    "scrolled": true
   },
   "outputs": [],
   "source": [
    "with open('./samplefiles/text.txt', 'r') as file:\n",
    "    file_data = file.readlines()\n",
    "\n",
    "# access the 5th line of file_data\n",
    "file_data[4] = '(this is line number 5)\\n'\n",
    "\n",
    "# and write everything back\n",
    "text_file4 = open('./samplefiles/text.txt', 'w+')\n",
    "\n",
    "text_file4.writelines(file_data)\n",
    "text_file4.close()\n",
    "\n",
    "print('updated contents:\\n')\n",
    "with open('./samplefiles/text.txt', 'r') as text_file4:\n",
    "    for line in text_file4.readlines():\n",
    "        print('   ',line)   "
   ]
  },
  {
   "cell_type": "markdown",
   "metadata": {},
   "source": [
    "<br><br><font color=\"#B81590\">$$\\large-\\infty-$$</font><br><br>"
   ]
  },
  {
   "cell_type": "markdown",
   "metadata": {},
   "source": [
    "### <font color=\"#D21087\">Excel Files</font>\n",
    "\n",
    "<font color='#544640'>We'll now open an Excel (.xlsx) containing some information about an environment in two different tabs.\n",
    "\n",
    "We're going to use `pandas`, a very powerful data science and data manipulation library that can handle large amounts of multidimensional \"panel data\" (hence the name) efficiently. It is generally used for data science and computing applications.\n",
    "\n",
    "It's also convenient for accessing and handling tabular data. There are *many* libraries that can handle Excel files, `pandas` is only one. `pandas` comes with some caveats (and limitations) that we won't go into here, related to it's original intended use; i.e. it is definitely not just a 'excel reader' library!\n",
    "\n",
    "Side note: `pandas` objects are called `dataframes`, much like R's native data structure and are very similar.\n",
    "\n",
    "For our purposes, here is the relevant doc:\n",
    "\n",
    "https://pandas.pydata.org/pandas-docs/stable/reference/api/pandas.read_excel.html</font>"
   ]
  },
  {
   "cell_type": "code",
   "execution_count": null,
   "metadata": {},
   "outputs": [],
   "source": [
    "data = pd.read_excel('./samplefiles/example.xlsx', sheet_name = None)"
   ]
  },
  {
   "cell_type": "markdown",
   "metadata": {},
   "source": [
    "<font color='#544640'>That was easy. When we specify sheet_name, we can do so using  `pd.read_excel` returns a `dict` whose key values are the names of the sheets in the `xlsx` document.</font>"
   ]
  },
  {
   "cell_type": "code",
   "execution_count": null,
   "metadata": {},
   "outputs": [],
   "source": [
    "list(data.keys())"
   ]
  },
  {
   "cell_type": "code",
   "execution_count": null,
   "metadata": {},
   "outputs": [],
   "source": [
    "data['server_inventory']"
   ]
  },
  {
   "cell_type": "code",
   "execution_count": null,
   "metadata": {},
   "outputs": [],
   "source": [
    "data['network_inventory']"
   ]
  },
  {
   "cell_type": "markdown",
   "metadata": {},
   "source": [
    "<font color='#544640'>We can access a particular column or row of a `pandas` dataframe using indices, as we learned with lists.</font>"
   ]
  },
  {
   "cell_type": "code",
   "execution_count": null,
   "metadata": {},
   "outputs": [],
   "source": [
    "type(data['server_inventory'])"
   ]
  },
  {
   "cell_type": "code",
   "execution_count": null,
   "metadata": {},
   "outputs": [],
   "source": [
    "# this is easier to type\n",
    "df1 = data['server_inventory']\n",
    "\n",
    "# .loc[i] returns the ith row\n",
    "df1.loc[0]"
   ]
  },
  {
   "cell_type": "code",
   "execution_count": null,
   "metadata": {},
   "outputs": [],
   "source": [
    "# accessing a data frame like a dict ['colname'] returns a column\n",
    "df1['IP']"
   ]
  },
  {
   "cell_type": "markdown",
   "metadata": {},
   "source": [
    "<font color='#544640'>Great, how about a specific element?</font>"
   ]
  },
  {
   "cell_type": "code",
   "execution_count": null,
   "metadata": {},
   "outputs": [],
   "source": [
    "# we can refer to the 3rd row of a specified column\n",
    "\n",
    "print(df1['IP'][3])"
   ]
  },
  {
   "cell_type": "code",
   "execution_count": null,
   "metadata": {},
   "outputs": [],
   "source": [
    "# or we can refer to the IP 'field' of the 3rd column, which is the same element\n",
    "\n",
    "print(df1.loc[3].IP)"
   ]
  },
  {
   "cell_type": "markdown",
   "metadata": {},
   "source": [
    "<font color='#544640'>What if it was a gigantic excel file that we couldn't directly view and read, and we only wanted to find `jbozic`'s servers? Using `pandas` takes a bit of explanation.\n",
    "\n",
    "Below we are creating a list of boolean (true/false) values based on comparing the column `Owner` to `'jbozic'`.</font>"
   ]
  },
  {
   "cell_type": "code",
   "execution_count": null,
   "metadata": {},
   "outputs": [],
   "source": [
    "df1.Owner == 'jbozic'"
   ]
  },
  {
   "cell_type": "markdown",
   "metadata": {},
   "source": [
    "<font color='#544640'>We can use that list of true/false values as flags to access particular rows of the dataframe:</font>"
   ]
  },
  {
   "cell_type": "code",
   "execution_count": null,
   "metadata": {},
   "outputs": [],
   "source": [
    "df1[df1.Owner == 'jbozic']"
   ]
  },
  {
   "cell_type": "code",
   "execution_count": null,
   "metadata": {},
   "outputs": [],
   "source": [
    "df1[df1.Owner == 'jorlandini']"
   ]
  },
  {
   "cell_type": "markdown",
   "metadata": {},
   "source": [
    "<font color='#544640'>Note the indices are preserved. That's because `pandas` assumed we wanted it to create the indices for us. We could have used the Hostname as our index instead, which would make our `loc` usage a bit more clear:</font>"
   ]
  },
  {
   "cell_type": "code",
   "execution_count": null,
   "metadata": {},
   "outputs": [],
   "source": [
    "data2 = pd.read_excel('./samplefiles/example.xlsx', sheet_name = None, index_col=0)"
   ]
  },
  {
   "cell_type": "code",
   "execution_count": null,
   "metadata": {},
   "outputs": [],
   "source": [
    "data2['server_inventory']"
   ]
  },
  {
   "cell_type": "markdown",
   "metadata": {},
   "source": [
    "<font color='#544640'>Now we can access rows by the server name:</font>"
   ]
  },
  {
   "cell_type": "code",
   "execution_count": null,
   "metadata": {},
   "outputs": [],
   "source": [
    "df2 = data2['server_inventory']\n",
    "df2.loc['Server006']"
   ]
  },
  {
   "cell_type": "markdown",
   "metadata": {},
   "source": [
    "<font color='#544640'>Or by subnet!</font>"
   ]
  },
  {
   "cell_type": "code",
   "execution_count": null,
   "metadata": {},
   "outputs": [],
   "source": [
    "data2['network_inventory'].loc['10.20.0.0']"
   ]
  },
  {
   "cell_type": "markdown",
   "metadata": {},
   "source": [
    "<font color='#544640'>If we want to make a new element of the df, we insert it using its new (unique) index. Since we're using hostnames now, it looks like this:</font>"
   ]
  },
  {
   "cell_type": "code",
   "execution_count": null,
   "metadata": {},
   "outputs": [],
   "source": [
    "df2.loc['Server009'] = ['10.20.0.17','HPE ProLiant', 'ckapusta','STAGING']\n",
    "df2"
   ]
  },
  {
   "cell_type": "markdown",
   "metadata": {},
   "source": [
    "<font color='#544640'>`pandas` can do a lot more - sort values, insert, remove, merge, append, split, etc. More than we have time for!\n",
    "\n",
    "For now, let's figure out how to put all this back into an Excel file.\n",
    "\n",
    "https://pandas.pydata.org/pandas-docs/stable/reference/api/pandas.DataFrame.to_excel.html</font>"
   ]
  },
  {
   "cell_type": "code",
   "execution_count": null,
   "metadata": {},
   "outputs": [],
   "source": [
    "# the updates we made were to the first sheet, currently stored in 'df2'\n",
    "# but let's not forget about our second sheet!\n",
    "\n",
    "# for more than one sheet we'll need an ExcelWriter object.\n",
    "\n",
    "with pd.ExcelWriter('./samplefiles/output.xlsx') as writer:\n",
    "    df2.to_excel(writer, sheet_name='server_inventory')\n",
    "    data2['network_inventory'].to_excel(writer, sheet_name='network_inventory')"
   ]
  },
  {
   "cell_type": "code",
   "execution_count": null,
   "metadata": {},
   "outputs": [],
   "source": [
    "os.listdir('./samplefiles/')"
   ]
  },
  {
   "cell_type": "code",
   "execution_count": null,
   "metadata": {},
   "outputs": [],
   "source": [
    "# ignore hidden files\n",
    "\n",
    "[f for f in os.listdir('./samplefiles/') if not f.startswith('.')]"
   ]
  },
  {
   "cell_type": "markdown",
   "metadata": {},
   "source": [
    "<br><br><font color=\"#B81590\">$$\\large-\\infty-$$</font><br><br>"
   ]
  }
 ],
 "metadata": {
  "kernelspec": {
   "display_name": "Python 3",
   "language": "python",
   "name": "python3"
  },
  "language_info": {
   "codemirror_mode": {
    "name": "ipython",
    "version": 3
   },
   "file_extension": ".py",
   "mimetype": "text/x-python",
   "name": "python",
   "nbconvert_exporter": "python",
   "pygments_lexer": "ipython3",
   "version": "3.7.1"
  },
  "varInspector": {
   "cols": {
    "lenName": 16,
    "lenType": 16,
    "lenVar": 40
   },
   "kernels_config": {
    "python": {
     "delete_cmd_postfix": "",
     "delete_cmd_prefix": "del ",
     "library": "var_list.py",
     "varRefreshCmd": "print(var_dic_list())"
    },
    "r": {
     "delete_cmd_postfix": ") ",
     "delete_cmd_prefix": "rm(",
     "library": "var_list.r",
     "varRefreshCmd": "cat(var_dic_list()) "
    }
   },
   "types_to_exclude": [
    "module",
    "function",
    "builtin_function_or_method",
    "instance",
    "_Feature"
   ],
   "window_display": false
  }
 },
 "nbformat": 4,
 "nbformat_minor": 2
}
