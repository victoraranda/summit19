{
 "cells": [
  {
   "cell_type": "markdown",
   "metadata": {},
   "source": [
    "<img src=\"img/insight.svg\" style=\"width: 300px\"><br>\n",
    "<font color='#544640'>\n",
    "<center><i>Engineering Summit 2019</i></center>\n",
    "<center><i>Denver, Colorado</i></center></font>"
   ]
  },
  {
   "cell_type": "markdown",
   "metadata": {},
   "source": [
    "# <font color=\"#D21087\">Welcome to Summit 2019</font>\n",
    "\n",
    "<font color='#544640'>If you can run these cells, you should be good to go. \n",
    "    \n",
    "<b>Recommended</b>: Watch the video.\n",
    "\n",
    "<b>Not Recommended</b>: Executing the last cell without reading the instructions.</font>"
   ]
  },
  {
   "cell_type": "markdown",
   "metadata": {},
   "source": [
    "<br><br><font color=\"#B81590\">$$\\large-\\infty-$$</font><br><br>"
   ]
  },
  {
   "cell_type": "code",
   "execution_count": 1,
   "metadata": {},
   "outputs": [
    {
     "data": {
      "text/plain": [
       "3"
      ]
     },
     "execution_count": 1,
     "metadata": {},
     "output_type": "execute_result"
    }
   ],
   "source": [
    "x = 1\n",
    "y = 2\n",
    "z = x + y\n",
    "\n",
    "z"
   ]
  },
  {
   "cell_type": "code",
   "execution_count": 2,
   "metadata": {},
   "outputs": [],
   "source": [
    "import numpy as np\n",
    "import pandas as pd\n",
    "import matplotlib.pyplot as plt\n",
    "import sklearn"
   ]
  },
  {
   "cell_type": "markdown",
   "metadata": {},
   "source": [
    "<font color='#544640'>No errors - no problem!</font>"
   ]
  },
  {
   "cell_type": "markdown",
   "metadata": {},
   "source": [
    "<br><br><font color=\"#B81590\">$$\\large-\\infty-$$</font><br><br>"
   ]
  },
  {
   "cell_type": "markdown",
   "metadata": {},
   "source": [
    "### <font color=\"#D21087\">Video</font>\n",
    "    \n",
    "<font color='#544640'>This video by [Michael Fudge](https://www.youtube.com/channel/UCqpc8sbuW9-FWglYJic9-aA) (7:05) is one of the better introductions to Jupyter. It's short and concise. Please watch if you're new to Jupyter Notebook. It will help you learn to navigate and use the application so that you can focus on the more interesting stuff during our breakout session(s).</font>"
   ]
  },
  {
   "cell_type": "code",
   "execution_count": 3,
   "metadata": {},
   "outputs": [
    {
     "data": {
      "image/jpeg": "[encoded data removed]",
      "text/html": [
       "\n",
       "        <iframe\n",
       "            width=\"700\"\n",
       "            height=\"500\"\n",
       "            src=\"https://www.youtube.com/embed/jZ952vChhuI\"\n",
       "            frameborder=\"0\"\n",
       "            allowfullscreen\n",
       "        ></iframe>\n",
       "        "
      ],
      "text/plain": [
       "<IPython.lib.display.YouTubeVideo at 0xa15972e10>"
      ]
     },
     "metadata": {},
     "output_type": "display_data"
    }
   ],
   "source": [
    "from IPython.display import YouTubeVideo\n",
    "video = YouTubeVideo('jZ952vChhuI', width='700', height='500')\n",
    "display(video)"
   ]
  },
  {
   "cell_type": "markdown",
   "metadata": {},
   "source": [
    "<br><br><font color=\"#B81590\">$$\\large-\\infty-$$</font><br><br>"
   ]
  },
  {
   "cell_type": "markdown",
   "metadata": {},
   "source": [
    "# <font color=\"#D21087\">(re-)Download Course Files</font>\n",
    "\n",
    "<font color='#544640'>Running this cell will create the directory `dl` where this `.ipynb` file lives, if it does not already exist. It will then download the latest files from Github to `./dl`. There may be some placeholder files as I develop content. Re-running this cell will update (overwrite) the content in `./dl`. If you make your own modifications to the files, save them elsewhere to avoid having them overwritten.</font>\n",
    "\n",
    "If you would rather use `git` or access these on the web, they're located here:\n",
    "\n",
    "https://github.com/victoraranda/summit19/\n",
    "\n",
    "\n",
    "\n",
    "# <font color='#544640'>Stop and read the preceding paragraph before executing the next cell. :-)</font>"
   ]
  },
  {
   "cell_type": "code",
   "execution_count": 15,
   "metadata": {},
   "outputs": [],
   "source": [
    "# set up environment\n",
    "import urllib.request\n",
    "import os.path\n",
    "import time\n",
    "import random"
   ]
  },
  {
   "cell_type": "code",
   "execution_count": 22,
   "metadata": {},
   "outputs": [
    {
     "name": "stdout",
     "output_type": "stream",
     "text": [
      "Are you sure you want to download the files? (enter \"yep\" if so)yep\n",
      "Downloading...\n",
      "  /Summit19_TestMe.ipynb\n",
      "url https://github.com/victoraranda/summit19/blob/master/Summit19_TestMe.ipynb\n",
      "file /Summit19_TestMe.ipynb\n",
      "Downloading...\n",
      "  /Summit19_Python_01_Intro.ipynb\n",
      "url https://github.com/victoraranda/summit19/blob/master/Summit19_Python_01_Intro.ipynb\n",
      "file /Summit19_Python_01_Intro.ipynb\n",
      "Downloading...\n",
      "  /Summit19_Python_02_Files.ipynb\n",
      "url https://github.com/victoraranda/summit19/blob/master/Summit19_Python_02_Files.ipynb\n",
      "file /Summit19_Python_02_Files.ipynb\n",
      "Downloading...\n",
      "  /Summit19_Python_03_Devices.ipynb\n",
      "url https://github.com/victoraranda/summit19/blob/master/Summit19_Python_03_Devices.ipynb\n",
      "file /Summit19_Python_03_Devices.ipynb\n",
      "Downloading...\n",
      "  /Summit19_Python_04_WebScrape.ipynb\n",
      "url https://github.com/victoraranda/summit19/blob/master/Summit19_Python_04_WebScrape.ipynb\n",
      "file /Summit19_Python_04_WebScrape.ipynb\n",
      "Downloading...\n",
      "  /img/insight.svg\n",
      "url https://github.com/victoraranda/summit19/blob/master/img/insight.svg\n",
      "file /img/insight.svg\n",
      "Downloading...\n",
      "  /samplefiles/example.xlsx\n",
      "url https://github.com/victoraranda/summit19/blob/master/samplefiles/example.xlsx\n",
      "file /samplefiles/example.xlsx\n",
      "Downloading...\n",
      "  /samplefiles/text.txt\n",
      "url https://github.com/victoraranda/summit19/blob/master/samplefiles/text.txt\n",
      "file /samplefiles/text.txt\n",
      "\n",
      "Contents of ./dl :\n"
     ]
    },
    {
     "ename": "FileNotFoundError",
     "evalue": "[Errno 2] No such file or directory: './dl.DS_Store'",
     "output_type": "error",
     "traceback": [
      "\u001b[0;31m---------------------------------------------------------------------------\u001b[0m",
      "\u001b[0;31mFileNotFoundError\u001b[0m                         Traceback (most recent call last)",
      "\u001b[0;32m<ipython-input-22-2a928e162ddf>\u001b[0m in \u001b[0;36m<module>\u001b[0;34m\u001b[0m\n\u001b[1;32m     40\u001b[0m     \u001b[0;32mfor\u001b[0m \u001b[0mcontents\u001b[0m \u001b[0;32min\u001b[0m \u001b[0mos\u001b[0m\u001b[0;34m.\u001b[0m\u001b[0mlistdir\u001b[0m\u001b[0;34m(\u001b[0m\u001b[0mroot_dir\u001b[0m\u001b[0;34m)\u001b[0m\u001b[0;34m:\u001b[0m\u001b[0;34m\u001b[0m\u001b[0;34m\u001b[0m\u001b[0m\n\u001b[1;32m     41\u001b[0m         print('  ' + contents +\n\u001b[0;32m---> 42\u001b[0;31m               time.ctime(os.path.getmtime(root_dir + contents)).rjust(50))\n\u001b[0m\u001b[1;32m     43\u001b[0m \u001b[0;32melse\u001b[0m\u001b[0;34m:\u001b[0m\u001b[0;34m\u001b[0m\u001b[0;34m\u001b[0m\u001b[0m\n\u001b[1;32m     44\u001b[0m     \u001b[0mprint\u001b[0m\u001b[0;34m(\u001b[0m\u001b[0;34m'Download aborted!'\u001b[0m\u001b[0;34m)\u001b[0m\u001b[0;34m\u001b[0m\u001b[0;34m\u001b[0m\u001b[0m\n",
      "\u001b[0;32m~/anaconda3/lib/python3.7/genericpath.py\u001b[0m in \u001b[0;36mgetmtime\u001b[0;34m(filename)\u001b[0m\n\u001b[1;32m     53\u001b[0m \u001b[0;32mdef\u001b[0m \u001b[0mgetmtime\u001b[0m\u001b[0;34m(\u001b[0m\u001b[0mfilename\u001b[0m\u001b[0;34m)\u001b[0m\u001b[0;34m:\u001b[0m\u001b[0;34m\u001b[0m\u001b[0;34m\u001b[0m\u001b[0m\n\u001b[1;32m     54\u001b[0m     \u001b[0;34m\"\"\"Return the last modification time of a file, reported by os.stat().\"\"\"\u001b[0m\u001b[0;34m\u001b[0m\u001b[0;34m\u001b[0m\u001b[0m\n\u001b[0;32m---> 55\u001b[0;31m     \u001b[0;32mreturn\u001b[0m \u001b[0mos\u001b[0m\u001b[0;34m.\u001b[0m\u001b[0mstat\u001b[0m\u001b[0;34m(\u001b[0m\u001b[0mfilename\u001b[0m\u001b[0;34m)\u001b[0m\u001b[0;34m.\u001b[0m\u001b[0mst_mtime\u001b[0m\u001b[0;34m\u001b[0m\u001b[0;34m\u001b[0m\u001b[0m\n\u001b[0m\u001b[1;32m     56\u001b[0m \u001b[0;34m\u001b[0m\u001b[0m\n\u001b[1;32m     57\u001b[0m \u001b[0;34m\u001b[0m\u001b[0m\n",
      "\u001b[0;31mFileNotFoundError\u001b[0m: [Errno 2] No such file or directory: './dl.DS_Store'"
     ]
    }
   ],
   "source": [
    "answer = input('Are you sure you want to download the files? (enter \"yep\" if so)')\n",
    "\n",
    "if answer == 'yep':\n",
    "    root_dir = './dl'\n",
    "    img_dir = '/img'\n",
    "    sample_dir = '/samplefiles'\n",
    "    site_path = 'https://github.com/victoraranda/summit19/blob/master'\n",
    "\n",
    "    filenames = [\n",
    "        '/Summit19_TestMe.ipynb',\n",
    "        '/Summit19_Python_01_Intro.ipynb', \n",
    "        '/Summit19_Python_02_Files.ipynb', \n",
    "        '/Summit19_Python_03_Devices.ipynb', \n",
    "        '/Summit19_Python_04_WebScrape.ipynb',\n",
    "        '/img/insight.svg',\n",
    "        '/samplefiles/example.xlsx',\n",
    "        '/samplefiles/text.txt']\n",
    "\n",
    "#         'Summit19_AI_01.ipynb', \n",
    "#         'Summit19_AI_02.ipynb',\n",
    "#         '', ''\n",
    "\n",
    "    if not os.path.exists(root_dir):\n",
    "        os.makedirs(root_dir)\n",
    "    if not os.path.exists(root_dir + img_dir):\n",
    "        os.makedirs(root_dir + img_dir)\n",
    "    if not os.path.exists(root_dir + sample_dir):\n",
    "        os.makedirs(root_dir + sample_dir)\n",
    "\n",
    "    for file in filenames:\n",
    "        print('Downloading...')\n",
    "        print('  ' + file)\n",
    "        url = site_path + file\n",
    "        print('url',url)\n",
    "        print('file',file)\n",
    "        urllib.request.urlretrieve(url, root_dir + file)\n",
    "        time.sleep(random.uniform(1, 3))\n",
    "\n",
    "    print('\\nContents of ' + root_dir + ' :')\n",
    "    for contents in os.listdir(root_dir):\n",
    "        print('  ' + contents +\n",
    "              time.ctime(os.path.getmtime(root_dir + '/' +contents)).rjust(50))\n",
    "else:\n",
    "    print('Download aborted!')"
   ]
  },
  {
   "cell_type": "code",
   "execution_count": null,
   "metadata": {},
   "outputs": [],
   "source": []
  }
 ],
 "metadata": {
  "kernelspec": {
   "display_name": "Python 3",
   "language": "python",
   "name": "python3"
  },
  "language_info": {
   "codemirror_mode": {
    "name": "ipython",
    "version": 3
   },
   "file_extension": ".py",
   "mimetype": "text/x-python",
   "name": "python",
   "nbconvert_exporter": "python",
   "pygments_lexer": "ipython3",
   "version": "3.7.1"
  },
  "varInspector": {
   "cols": {
    "lenName": 16,
    "lenType": 16,
    "lenVar": 40
   },
   "kernels_config": {
    "python": {
     "delete_cmd_postfix": "",
     "delete_cmd_prefix": "del ",
     "library": "var_list.py",
     "varRefreshCmd": "print(var_dic_list())"
    },
    "r": {
     "delete_cmd_postfix": ") ",
     "delete_cmd_prefix": "rm(",
     "library": "var_list.r",
     "varRefreshCmd": "cat(var_dic_list()) "
    }
   },
   "types_to_exclude": [
    "module",
    "function",
    "builtin_function_or_method",
    "instance",
    "_Feature"
   ],
   "window_display": false
  }
 },
 "nbformat": 4,
 "nbformat_minor": 2
}
