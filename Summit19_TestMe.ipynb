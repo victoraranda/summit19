{
 "cells": [
  {
   "cell_type": "markdown",
   "metadata": {},
   "source": [
    "<img src=\"img/insight.svg\" style=\"width: 300px\"><br>\n",
    "<font color='#544640'>\n",
    "<center><i>Engineering Summit 2019</i></center>\n",
    "<center><i>Denver, Colorado</i></center></font><br>\n",
    "<center><i><font color='#544640' size='1'>Author: Victor Aranda</font></i></center></font>\n",
    "<center><i><font color='#B81590' size='1'>victor.aranda@insight.com</font></i></center></font>\n",
    "<hr>"
   ]
  },
  {
   "cell_type": "markdown",
   "metadata": {},
   "source": [
    "# <font color=\"#D21087\">Welcome to Summit 2019</font>\n",
    "\n",
    "<font color='#544640'>If you can run these cells, you should be good to go. \n",
    "    \n",
    "<b>Recommended</b>: Watch the video.\n",
    "\n",
    "<b>Not Recommended</b>: Executing the last cell without reading the instructions.</font>"
   ]
  },
  {
   "cell_type": "markdown",
   "metadata": {},
   "source": [
    "<br><br><font color=\"#B81590\">$$\\large-\\infty-$$</font><br><br>"
   ]
  },
  {
   "cell_type": "code",
   "execution_count": null,
   "metadata": {},
   "outputs": [],
   "source": [
    "# environment setup\n",
    "import decimal\n",
    "import numpy as np\n",
    "import pandas as pd\n",
    "import matplotlib.pyplot as plt\n",
    "import sklearn\n",
    "from IPython.display import YouTubeVideo"
   ]
  },
  {
   "cell_type": "markdown",
   "metadata": {},
   "source": [
    "<br><br><font color=\"#B81590\">$$\\large-\\infty-$$</font><br><br>"
   ]
  },
  {
   "cell_type": "code",
   "execution_count": null,
   "metadata": {},
   "outputs": [],
   "source": [
    "for i in range(10):\n",
    "    x = np.random.randint(1,10)\n",
    "    y = np.random.randint(1,10)\n",
    "\n",
    "    print(x,'x',y,'=',x * y)"
   ]
  },
  {
   "cell_type": "code",
   "execution_count": null,
   "metadata": {},
   "outputs": [],
   "source": [
    "n = 200\n",
    "\n",
    "offsetX1 = np.random.randint(-10,10)\n",
    "offsetY1 = np.random.randint(-10,10)\n",
    "\n",
    "spreadX1 = np.random.random()\n",
    "spreadY1 = np.random.random()\n",
    "\n",
    "plt.scatter(X1,Y1)\n",
    "\n",
    "plt.show()"
   ]
  },
  {
   "cell_type": "markdown",
   "metadata": {},
   "source": [
    "<font color='#544640'>A silly function with a brain-twister list comprehension:</font>"
   ]
  },
  {
   "cell_type": "code",
   "execution_count": null,
   "metadata": {},
   "outputs": [],
   "source": [
    "def flatten(l):\n",
    "    return [i for s in l for i in s]\n",
    "\n",
    "flatten([[1,2], [3,4], [5,6]])"
   ]
  },
  {
   "cell_type": "markdown",
   "metadata": {},
   "source": [
    "<font color='#544640'>This function can calculate and recite the number $\\pi$ to more digits than Guy Reams:</font>"
   ]
  },
  {
   "cell_type": "code",
   "execution_count": null,
   "metadata": {},
   "outputs": [],
   "source": [
    "def pi():\n",
    "    \"\"\"\n",
    "    https://docs.python.org/3/library/decimal.html\n",
    "    \n",
    "    Compute Pi to the current precision.\n",
    "\n",
    "    Examples\n",
    "    --------\n",
    "    >>> print(pi())\n",
    "    3.141592653589793238462643383\n",
    "\n",
    "    Notes\n",
    "    -----\n",
    "    Taken from https://docs.python.org/3/library/decimal.html#recipes\n",
    "    \"\"\"\n",
    "    decimal.getcontext().prec += 2  # extra digits for intermediate steps\n",
    "    three = decimal.Decimal(3)      # substitute \"three=3.0\" for regular floats\n",
    "    lasts, t, s, n, na, d, da = 0, three, 3, 1, 0, 0, 24\n",
    "    while s != lasts:\n",
    "        lasts = s\n",
    "        n, na = n + na, na + 8\n",
    "        d, da = d + da, da + 32\n",
    "        t = (t * n) / d\n",
    "        s += t\n",
    "    decimal.getcontext().prec -= 2\n",
    "    return +s               # unary plus applies the new precision\n",
    "\n",
    "decimal.getcontext().prec = 401\n",
    "\n",
    "print(pi())"
   ]
  },
  {
   "cell_type": "markdown",
   "metadata": {},
   "source": [
    "<br><br><font color=\"#B81590\">$$\\large-\\infty-$$</font><br><br>"
   ]
  },
  {
   "cell_type": "markdown",
   "metadata": {},
   "source": [
    "### <font color=\"#D21087\">Video</font>\n",
    "    \n",
    "<font color='#544640'>This video by [Michael Fudge](https://www.youtube.com/channel/UCqpc8sbuW9-FWglYJic9-aA) (7:05) is one of the better introductions to Jupyter. It's short and concise. Please watch if you're new to Jupyter Notebook. It will help you learn to navigate and use the application so that you can focus on the more interesting stuff during our breakout session(s).</font>"
   ]
  },
  {
   "cell_type": "code",
   "execution_count": null,
   "metadata": {},
   "outputs": [],
   "source": [
    "video = YouTubeVideo('jZ952vChhuI', width='700', height='500')\n",
    "\n",
    "display(video)"
   ]
  },
  {
   "cell_type": "markdown",
   "metadata": {},
   "source": [
    "<br><br><font color=\"#B81590\">$$\\large-\\infty-$$</font><br><br>"
   ]
  },
  {
   "cell_type": "markdown",
   "metadata": {},
   "source": [
    "# <font color=\"#D21087\">(re-)Download Course Files</font>\n",
    "\n",
    "<font color='#544640'>Running this cell will create the directory `dl` where this `.ipynb` file lives, if it does not already exist. It will then download the latest files from Github to `./dl`. There may be some placeholder files as I develop content. Re-running this cell will update (overwrite) the content in `./dl`. If you make your own modifications to the files, save them elsewhere to avoid having them overwritten.</font>\n",
    "\n",
    "If you would rather use `git` or access these on the web, they're located here:\n",
    "\n",
    "https://github.com/victoraranda/summit19/\n",
    "\n",
    "\n",
    "\n",
    "# <font color='#544640'>Stop and read the preceding paragraph before executing the next cell. :-)</font>"
   ]
  },
  {
   "cell_type": "code",
   "execution_count": null,
   "metadata": {},
   "outputs": [],
   "source": [
    "# set up environment\n",
    "import urllib.request\n",
    "import os.path\n",
    "import time\n",
    "import random"
   ]
  },
  {
   "cell_type": "code",
   "execution_count": null,
   "metadata": {},
   "outputs": [],
   "source": [
    "answer = input(\n",
    "    'Are you sure you want to download the files? Enter \"yep\" if so :')\n",
    "\n",
    "if answer == 'yep':\n",
    "    root_dir = './dl'\n",
    "    sample_dir = '/samplefiles'\n",
    "    site_path = 'https://github.com/victoraranda/summit19/blob/master'\n",
    "\n",
    "    filenames = [\n",
    "        '/Summit19_TestMe.ipynb', \n",
    "        '/Summit19_Python_01_Intro.ipynb',\n",
    "        '/Summit19_Python_02_Files.ipynb', \n",
    "        '/Summit19_Python_03_Devices.ipynb',\n",
    "        '/Summit19_Python_04_WebScrape.ipynb',\n",
    "        '/Summit19_AI_01_Regression.ipynb',\n",
    "        '/Summit19_AI_02_Clustering.ipynb',\n",
    "        '/Summit19_AI_03_TimeSeries.ipynb',\n",
    "        '/Summit19_AI_04_NN.ipynb']\n",
    "\n",
    "    for directory in [root_dir]:\n",
    "        if not os.path.exists(directory):\n",
    "            os.makedirs(directory)\n",
    "\n",
    "    for file in filenames:\n",
    "        print('  Downloading', file)\n",
    "        url = site_path + file\n",
    "        urllib.request.urlretrieve(url, root_dir + file)\n",
    "        time.sleep(random.uniform(1, 3))\n",
    "\n",
    "    print('\\nContents of ' + root_dir + ' :')\n",
    "    for contents in os.listdir(root_dir):\n",
    "        print('  ' + contents.ljust(40) + time.ctime(\n",
    "            os.path.getmtime(root_dir + '/' + contents)))\n",
    "else:\n",
    "    print('Download aborted!')"
   ]
  }
 ],
 "metadata": {
  "kernelspec": {
   "display_name": "Python 3",
   "language": "python",
   "name": "python3"
  },
  "language_info": {
   "codemirror_mode": {
    "name": "ipython",
    "version": 3
   },
   "file_extension": ".py",
   "mimetype": "text/x-python",
   "name": "python",
   "nbconvert_exporter": "python",
   "pygments_lexer": "ipython3",
   "version": "3.7.1"
  },
  "varInspector": {
   "cols": {
    "lenName": 16,
    "lenType": 16,
    "lenVar": 40
   },
   "kernels_config": {
    "python": {
     "delete_cmd_postfix": "",
     "delete_cmd_prefix": "del ",
     "library": "var_list.py",
     "varRefreshCmd": "print(var_dic_list())"
    },
    "r": {
     "delete_cmd_postfix": ") ",
     "delete_cmd_prefix": "rm(",
     "library": "var_list.r",
     "varRefreshCmd": "cat(var_dic_list()) "
    }
   },
   "types_to_exclude": [
    "module",
    "function",
    "builtin_function_or_method",
    "instance",
    "_Feature"
   ],
   "window_display": false
  }
 },
 "nbformat": 4,
 "nbformat_minor": 2
}
