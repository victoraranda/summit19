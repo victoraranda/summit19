{
 "cells": [
  {
   "cell_type": "markdown",
   "metadata": {},
   "source": [
    "<img src=\"img/insight.svg\" style=\"width: 300px\"><br>\n",
    "<font color='#544640'>\n",
    "<center><i>Engineering Summit 2019</i></center>\n",
    "<center><i>Denver, Colorado</i></center></font>"
   ]
  },
  {
   "cell_type": "markdown",
   "metadata": {},
   "source": [
    "# <font color=\"#D21087\">Web Scraping\n",
    "\n",
    "<font color='#544640'>In this simple example we're going to do some very basic web scraping.\n",
    "\n",
    "Please note the random pause/wait time introduced in the loops in this example. It's important not to get yourself into trouble by sending too many requests too frequently to the site you are accessing. Your computer will basically try to (mini-)DoS a target host if you aren't careful."
   ]
  },
  {
   "cell_type": "markdown",
   "metadata": {},
   "source": [
    "### <font color=\"#D21087\">Libraries Used:</font><font color='#544640'>\n",
    "\n",
    "* `BeautifulSoup4`: https://readthedocs.org/projects/beautiful-soup-4/\n",
    "* `requests`: http://docs.python-requests.org/en/master/\n",
    "* `re`: https://docs.python.org/3/howto/regex.html"
   ]
  },
  {
   "cell_type": "markdown",
   "metadata": {},
   "source": [
    "<br><br><font color=\"#B81590\">$$\\large-\\infty-$$</font><br><br>"
   ]
  },
  {
   "cell_type": "code",
   "execution_count": 35,
   "metadata": {},
   "outputs": [],
   "source": [
    "import bs4 as bs\n",
    "import requests\n",
    "import re"
   ]
  },
  {
   "cell_type": "code",
   "execution_count": 36,
   "metadata": {
    "scrolled": false
   },
   "outputs": [
    {
     "name": "stdout",
     "output_type": "stream",
     "text": [
      "http://fortune.com/fortune500/insight-enterprises/\n",
      "http://thevarguy.com/var-guy/060215/insight-enterprises-rebrand-reflects-emphasis-intelligent-technology\n",
      "http://fortune.com/fortune500/insight-enterprises/\n",
      "http://www.internetnews.com/bus-news/article.php/36111/Insight+Acquires+Choice+Peripherals+in+UK.htm\n",
      "http://www.crn.com/news/channel-programs/18837829/insight-acquires-comark-for-150-million.htm\n",
      "http://www.crn.com/news/channel-programs/190900479/insight-enterprises-to-acquire-software-spectrum-from-level-3.htm\n",
      "http://www.bizjournals.com/phoenix/stories/2008/03/31/daily38.html\n",
      "http://www.streetinsider.com/Mergers+and+Acquisitions/Insight+Enterprises+(NSIT)+Acquires+MINX+Limited/3812222.html\n",
      "http://www.crn.com/news/channel-programs/208808591/insight-buys-u-k-based-network-integrator.htm\n",
      "http://www.bizjournals.com/phoenix/news/2011/09/19/insight-enterprises-to-buy-ensynch.html\n",
      "http://www.streetinsider.com/Mergers+and+Acquisitions/Insight+Enterprises+(NSIT)+Announces+Acquisition+of+Tempe-based+Ensynch/6796203.html\n",
      "http://financial.tmcnet.com/news/2012/02/03/6097340.htm\n",
      "http://www.bizjournals.com/phoenix/blog/techflash/2015/07/insight-enterprises-sees-increase-in-revenue-dip.html\n",
      "http://www.bizjournals.com/phoenix/blog/techflash/2015/10/insight-enterprises-buys-boston-interactive-design.html\n",
      "http://pj.news.chass.ncsu.edu/2015/03/23/3-23-15-us-nonprofit-news/\n",
      "http://ualrpublicradio.org/post/insight-us-opening-sales-center-conway-adding-50-jobs#stream/0\n",
      "http://www.crn.com.au/news/insight-acquires-ignia-massive-microsoft-merger-435833\n",
      "http://www.startribune.com/datalink-corp-will-be-acquired-for-236-million-by-insight-enterprises/400276601/\n",
      "http://www.crn.com/news/channel-programs/300082730/data-center-blockbuster-insight-to-buy-datalink-for-258m.htm\n",
      "http://www.crn.com/news/channel-programs/300083322/datalink-shareholders-approve-the-sale-of-company-to-insight-enterprises.htm/pgno/0/1\n",
      "http://www.hostsearch.com/news/technology-solutions-provider-insight-acquires-dutch-cloud-company-caasecom.asp\n",
      "http://www.microsoft.com/en-us/news/Press/2013/Jul13/07-30MS2013SalesPR.aspx\n",
      "http://aztechbeat.com/2013/11/crown-brothers-co-founders-insight-enterprises-receive-lifetime-achievement-award-2013-governors-celebration-innovation/\n",
      "http://www.informationweek.com/document.asp?doc_id=898876\n",
      "http://fortune.com/fortune500/insight-enterprises-493/\n"
     ]
    }
   ],
   "source": [
    "target_page = 'https://en.wikipedia.org/wiki/Insight_Enterprises'\n",
    "\n",
    "page_data = requests.get(target_page)\n",
    "\n",
    "soup = bs.BeautifulSoup(page_data.content, 'html.parser')\n",
    "\n",
    "links = soup.find_all('a', attrs={'href': re.compile('^http://')})\n",
    "\n",
    "for link in links:\n",
    "    print(link.get('href'))"
   ]
  },
  {
   "cell_type": "code",
   "execution_count": null,
   "metadata": {},
   "outputs": [],
   "source": []
  }
 ],
 "metadata": {
  "kernelspec": {
   "display_name": "Python 3",
   "language": "python",
   "name": "python3"
  },
  "language_info": {
   "codemirror_mode": {
    "name": "ipython",
    "version": 3
   },
   "file_extension": ".py",
   "mimetype": "text/x-python",
   "name": "python",
   "nbconvert_exporter": "python",
   "pygments_lexer": "ipython3",
   "version": "3.7.1"
  },
  "varInspector": {
   "cols": {
    "lenName": 16,
    "lenType": 16,
    "lenVar": 40
   },
   "kernels_config": {
    "python": {
     "delete_cmd_postfix": "",
     "delete_cmd_prefix": "del ",
     "library": "var_list.py",
     "varRefreshCmd": "print(var_dic_list())"
    },
    "r": {
     "delete_cmd_postfix": ") ",
     "delete_cmd_prefix": "rm(",
     "library": "var_list.r",
     "varRefreshCmd": "cat(var_dic_list()) "
    }
   },
   "types_to_exclude": [
    "module",
    "function",
    "builtin_function_or_method",
    "instance",
    "_Feature"
   ],
   "window_display": false
  }
 },
 "nbformat": 4,
 "nbformat_minor": 2
}
