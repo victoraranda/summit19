{
 "cells": [
  {
   "cell_type": "markdown",
   "metadata": {},
   "source": [
    "<img src=\"img/insight.svg\" style=\"width: 300px\"><br>\n",
    "<font color='#544640'>\n",
    "<center><i>Engineering Summit 2019</i></center>\n",
    "<center><i>Denver, Colorado</i></center></font>"
   ]
  },
  {
   "cell_type": "markdown",
   "metadata": {},
   "source": [
    "# <font color=\"#D21087\">Connecting to Devices</font>\n",
    "\n",
    "<font color='#544640'>In this notebook we'll illustrate connecting to in various ways.\n",
    "\n",
    "* SSH\n",
    "* XML API\n",
    "* `PANDEVICE` framework\n",
    "\n",
    "This is a specific example (in this case a PA-220) but can be expanded or modified as needed to fit the bill.</font>"
   ]
  },
  {
   "cell_type": "markdown",
   "metadata": {},
   "source": [
    "### <font color=\"#D21087\">Connecting to Devices</font>\n",
    "\n",
    "<font color='#544640'>For this exercise we'll be using [Paramiko](http://www.paramiko.org/installing.html).\n",
    "\n",
    "You'll need to run the following command in a console to download this library.\n",
    "\n",
    "* Anaconda users:    `conda install -c conda-forge paramiko`\n",
    "* Non-Anaconda users (python):    `pip install paramiko`\n",
    "\n",
    "\n",
    "Read more docs here: http://docs.paramiko.org/en/stable/index.html</font>"
   ]
  },
  {
   "cell_type": "code",
   "execution_count": 8,
   "metadata": {
    "scrolled": false
   },
   "outputs": [],
   "source": [
    "import getpass\n",
    "import paramiko\n",
    "import time"
   ]
  },
  {
   "cell_type": "code",
   "execution_count": 9,
   "metadata": {},
   "outputs": [],
   "source": [
    "def send_command(client, command):\n",
    "\n",
    "    print(stdout.read())\n",
    "\n",
    "\n",
    "def get_output(client, prompt):\n",
    "    buffer = ''\n",
    "    while not prompt in buffer:\n",
    "        buffer += shell.recv(1024).decode('utf-8')\n",
    "    return (buffer)"
   ]
  },
  {
   "cell_type": "code",
   "execution_count": 10,
   "metadata": {},
   "outputs": [],
   "source": [
    "host = '192.168.44.44'\n",
    "username = 'admin'\n",
    "port = 22\n",
    "password = 'Am3lia!'  #getpass.getpass('password for ' + username + ' : ')\n",
    "prompt = 'admin@PA-220>'"
   ]
  },
  {
   "cell_type": "code",
   "execution_count": 11,
   "metadata": {
    "scrolled": false
   },
   "outputs": [
    {
     "name": "stdout",
     "output_type": "stream",
     "text": [
      "connected to 192.168.44.44\n",
      "<paramiko.ChannelFile from <paramiko.Channel 1 (closed) -> <paramiko.Transport at 0x17ebee10 (unconnected)>>>\n",
      "<paramiko.ChannelFile from <paramiko.Channel 1 (closed) -> <paramiko.Transport at 0x17ebee10 (unconnected)>>>\n",
      "<paramiko.ChannelFile from <paramiko.Channel 1 (closed) -> <paramiko.Transport at 0x17ebee10 (unconnected)>>>\n"
     ]
    }
   ],
   "source": [
    "# set up the connection\n",
    "client = paramiko.SSHClient()\n",
    "\n",
    "# deal with ssh keys\n",
    "client.set_missing_host_key_policy(paramiko.AutoAddPolicy())\n",
    "client.load_system_host_keys()\n",
    "\n",
    "try:\n",
    "    # connect to host\n",
    "    client.connect(host, port, username, password)\n",
    "\n",
    "    # create shell\n",
    "    shell = client.invoke_shell()\n",
    "    print('connected to ' + host)\n",
    "except e:\n",
    "    print('Error!')\n",
    "    print(e)\n",
    "\n",
    "time.sleep(5)\n",
    "\n",
    "get_output(shell, prompt)\n",
    "\n",
    "print(stdin)\n",
    "print(stdout)\n",
    "print(stderr)\n",
    "\n",
    "client.close()"
   ]
  },
  {
   "cell_type": "markdown",
   "metadata": {},
   "source": [
    "<font color='#544640'>Paramiko is powerful - check out the demos here:\n",
    "\n",
    "https://github.com/paramiko/paramiko/tree/master/demos</font>"
   ]
  }
 ],
 "metadata": {
  "kernelspec": {
   "display_name": "Python 3",
   "language": "python",
   "name": "python3"
  },
  "language_info": {
   "codemirror_mode": {
    "name": "ipython",
    "version": 3
   },
   "file_extension": ".py",
   "mimetype": "text/x-python",
   "name": "python",
   "nbconvert_exporter": "python",
   "pygments_lexer": "ipython3",
   "version": "3.7.1"
  },
  "varInspector": {
   "cols": {
    "lenName": 16,
    "lenType": 16,
    "lenVar": 40
   },
   "kernels_config": {
    "python": {
     "delete_cmd_postfix": "",
     "delete_cmd_prefix": "del ",
     "library": "var_list.py",
     "varRefreshCmd": "print(var_dic_list())"
    },
    "r": {
     "delete_cmd_postfix": ") ",
     "delete_cmd_prefix": "rm(",
     "library": "var_list.r",
     "varRefreshCmd": "cat(var_dic_list()) "
    }
   },
   "types_to_exclude": [
    "module",
    "function",
    "builtin_function_or_method",
    "instance",
    "_Feature"
   ],
   "window_display": false
  }
 },
 "nbformat": 4,
 "nbformat_minor": 2
}
