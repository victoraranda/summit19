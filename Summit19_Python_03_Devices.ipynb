{
 "cells": [
  {
   "cell_type": "markdown",
   "metadata": {},
   "source": [
    "<img src=\"img/insight.svg\" style=\"width: 300px\"><br>\n",
    "<font color='#544640'>\n",
    "<center><i>Engineering Summit 2019</i></center>\n",
    "<center><i>Denver, Colorado</i></center></font><br>\n",
    "<center><i><font color='#544640' size='1'>Author: Victor Aranda</font></i></center></font>\n",
    "<center><i><font color='#B81590' size='1'>victor.aranda@insight.com</font></i></center></font>\n",
    "<hr>"
   ]
  },
  {
   "cell_type": "markdown",
   "metadata": {},
   "source": [
    "# <font color=\"#D21087\">Connecting to Devices</font>\n",
    "\n",
    "<font color='#544640'>In this notebook we'll illustrate connecting to a device via SSH. The target device in this case is my own laptop for simplicity.\n",
    "\n",
    "Do take this and adapt it other use cases. You will see how challenging it can be dealing with network delay, buffers, `stdin`/`stdout`/`stderr`, and weird device-specific behavior that needs workarounds. Suffice to say that automating infrastructure in this way is extraordinarily cumbersome. That's what REST and XML APIs are for. However, connecting to a device's shell via SSH can be handy to do quick checks or perform basic templated setup.</font>"
   ]
  },
  {
   "cell_type": "markdown",
   "metadata": {},
   "source": [
    "### <font color=\"#D21087\">Paramiko</font>\n",
    "\n",
    "<font color='#544640'>For this exercise we'll be using [Paramiko](http://www.paramiko.org/installing.html).\n",
    "\n",
    "You'll need to run the following command in a console to download this library.\n",
    "\n",
    "* Anaconda users:    `conda install -c conda-forge paramiko`\n",
    "* Non-Anaconda users (python):    `pip install paramiko`\n",
    "\n",
    "Read more docs here: http://docs.paramiko.org/en/stable/index.html</font>\n",
    "\n",
    "You will also need to enable a local SSH listener if you want to follow along.\n",
    "\n",
    "Mac users: `sudo systemsetup -setremotelogin on`\n",
    "\n",
    "**NOTE** Much of Python programing is finding the right library to use. If you think you have to write it from scratch, you are probably doing it wrong. Python has a **huge** set of libraries available that make programming with it very easy. There are a ton of online resources that help you navigate that."
   ]
  },
  {
   "cell_type": "markdown",
   "metadata": {},
   "source": [
    "<br><br><font color=\"#B81590\">$$\\large-\\infty-$$</font><br><br>"
   ]
  },
  {
   "cell_type": "code",
   "execution_count": 1,
   "metadata": {
    "scrolled": false
   },
   "outputs": [],
   "source": [
    "# environment setup\n",
    "import getpass\n",
    "import paramiko\n",
    "import time"
   ]
  },
  {
   "cell_type": "markdown",
   "metadata": {},
   "source": [
    "<br><br><font color=\"#B81590\">$$\\large-\\infty-$$</font><br><br>"
   ]
  },
  {
   "cell_type": "code",
   "execution_count": 12,
   "metadata": {
    "scrolled": false
   },
   "outputs": [
    {
     "name": "stdout",
     "output_type": "stream",
     "text": [
      "password for mono : ········\n",
      "Connected to 127.0.0.1\n",
      "/usr/bin/python\n",
      "\n",
      "Applications\n",
      "\n",
      "Desktop\n",
      "\n",
      "Documents\n",
      "\n",
      "Downloads\n",
      "\n",
      "Dropbox\n",
      "\n",
      "Library\n",
      "\n",
      "Movies\n",
      "\n",
      "Music\n",
      "\n",
      "Pictures\n",
      "\n",
      "Public\n",
      "\n",
      "anaconda3\n",
      "\n"
     ]
    }
   ],
   "source": [
    "host = '127.0.0.1'\n",
    "username = 'mono'\n",
    "port = 22\n",
    "password = getpass.getpass('password for ' + username + ' : ')\n",
    "prompt = '$'\n",
    "\n",
    "# set up the connection\n",
    "client = paramiko.SSHClient()\n",
    "\n",
    "# deal with ssh keys\n",
    "client.set_missing_host_key_policy(paramiko.AutoAddPolicy())\n",
    "client.load_system_host_keys()\n",
    "\n",
    "try:\n",
    "    # connect to host\n",
    "    client.connect(host, port, username, password)\n",
    "\n",
    "    # create shell\n",
    "    shell = client.invoke_shell()\n",
    "    print('Connected to ' + host)\n",
    "except:\n",
    "    print('Something went wrong. :-(')\n",
    "    client.close()\n",
    "    \n",
    "stdin, stdout, stderr = client.exec_command('which python')\n",
    "\n",
    "for line in stdout:\n",
    "    print(line)\n",
    "    \n",
    "stdin, stdout, stderr = client.exec_command('ls')\n",
    "\n",
    "for line in stdout:\n",
    "    print(line)\n",
    "\n",
    "client.close()"
   ]
  },
  {
   "cell_type": "markdown",
   "metadata": {},
   "source": [
    "<font color='#544640'>Paramiko is powerful - check out the demos here:\n",
    "\n",
    "https://github.com/paramiko/paramiko/tree/master/demos\n",
    "\n",
    "\n",
    "Note also that we are using a `try` `except` construct here. This is Python's mechanism to handle errors. You can add all sorts of error handlers for individual types of errors or a global one to catch all errors like we do here.\n",
    "</font>"
   ]
  },
  {
   "cell_type": "markdown",
   "metadata": {},
   "source": [
    "<br><br><font color=\"#B81590\">$$\\large-\\infty-$$</font><br><br>"
   ]
  }
 ],
 "metadata": {
  "kernelspec": {
   "display_name": "Python 3",
   "language": "python",
   "name": "python3"
  },
  "language_info": {
   "codemirror_mode": {
    "name": "ipython",
    "version": 3
   },
   "file_extension": ".py",
   "mimetype": "text/x-python",
   "name": "python",
   "nbconvert_exporter": "python",
   "pygments_lexer": "ipython3",
   "version": "3.7.1"
  },
  "varInspector": {
   "cols": {
    "lenName": 16,
    "lenType": 16,
    "lenVar": 40
   },
   "kernels_config": {
    "python": {
     "delete_cmd_postfix": "",
     "delete_cmd_prefix": "del ",
     "library": "var_list.py",
     "varRefreshCmd": "print(var_dic_list())"
    },
    "r": {
     "delete_cmd_postfix": ") ",
     "delete_cmd_prefix": "rm(",
     "library": "var_list.r",
     "varRefreshCmd": "cat(var_dic_list()) "
    }
   },
   "types_to_exclude": [
    "module",
    "function",
    "builtin_function_or_method",
    "instance",
    "_Feature"
   ],
   "window_display": false
  }
 },
 "nbformat": 4,
 "nbformat_minor": 2
}
